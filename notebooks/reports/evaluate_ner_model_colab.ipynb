{
 "cells": [
  {
   "cell_type": "markdown",
   "id": "f924d7b7",
   "metadata": {},
   "source": [
    "# 📦 Environment Setup\n",
    "!pip install -q transformers datasets mlflow seqeval\n",
    "!pip install -q git+https://github.com/huggingface/transformers.git  # Optional: latest\n",
    "!git clone https://github.com/Teshager21/amharic-telegram-ecommerce-ner.git\n",
    "%cd amharic-telegram-ecommerce-ner\n",
    "\n",
    "# 📁 Mount Google Drive (Optional)\n",
    "from google.colab import drive\n",
    "drive.mount('/content/drive')"
   ]
  },
  {
   "cell_type": "code",
   "execution_count": null,
   "id": "42ad1ee0",
   "metadata": {
    "vscode": {
     "languageId": "plaintext"
    }
   },
   "outputs": [],
   "source": [
    "# ⚙️ DVC Setup (if needed to pull model/data from Google Drive)\n",
    "!pip install -q dvc[dvc-gdrive]"
   ]
  },
  {
   "cell_type": "code",
   "execution_count": null,
   "id": "3efa7805",
   "metadata": {
    "vscode": {
     "languageId": "plaintext"
    }
   },
   "outputs": [],
   "source": [
    "# 📎 Upload your service account JSON\n",
    "from google.colab import files\n",
    "\n",
    "uploaded = files.upload()  # Select your `dvc-drive-remote-XXXX.json`"
   ]
  },
  {
   "cell_type": "code",
   "execution_count": null,
   "id": "c30da414",
   "metadata": {
    "vscode": {
     "languageId": "plaintext"
    }
   },
   "outputs": [],
   "source": [
    "# 💾 Save and point DVC to service account key\n",
    "import os\n",
    "import json\n",
    "\n",
    "filename = next(iter(uploaded))\n",
    "key_path = f\"/content/{filename}\"\n",
    "\n",
    "# Reconfigure the remote to use this JSON\n",
    "!dvc remote modify gdrive_remote gdrive_service_account_json_file_path {key_path}"
   ]
  },
  {
   "cell_type": "code",
   "execution_count": null,
   "id": "5888db51",
   "metadata": {
    "vscode": {
     "languageId": "plaintext"
    }
   },
   "outputs": [],
   "source": [
    "# 🔄  Pull data/model using DVC\n",
    "!dvc pull"
   ]
  },
  {
   "cell_type": "code",
   "execution_count": null,
   "id": "3c7ad5ef",
   "metadata": {
    "vscode": {
     "languageId": "plaintext"
    }
   },
   "outputs": [],
   "source": [
    "# 🧠 Evaluate NER Model\n",
    "from src.eval.evaluate import evaluate\n",
    "\n",
    "LABEL_LIST = [\n",
    "    \"O\",\n",
    "    \"B-PRODUCT\", \"I-PRODUCT\",\n",
    "    \"B-PRICE\", \"I-PRICE\",\n",
    "    \"B-LOC\", \"I-LOC\",\n",
    "]\n",
    "\n",
    "evaluate(\n",
    "    model_path=\"models/ner\",  # or path to model in Google Drive\n",
    "    data_path=\"data/processed/ner_test.conll\",  # adjust as needed\n",
    "    label_list=LABEL_LIST\n",
    ")"
   ]
  },
  {
   "cell_type": "code",
   "execution_count": null,
   "id": "78b42c79",
   "metadata": {
    "vscode": {
     "languageId": "plaintext"
    }
   },
   "outputs": [],
   "source": [
    "# 📊 View MLflow Run (Optional)\n",
    "!ls -lh mlruns/"
   ]
  }
 ],
 "metadata": {
  "language_info": {
   "name": "python"
  }
 },
 "nbformat": 4,
 "nbformat_minor": 5
}
