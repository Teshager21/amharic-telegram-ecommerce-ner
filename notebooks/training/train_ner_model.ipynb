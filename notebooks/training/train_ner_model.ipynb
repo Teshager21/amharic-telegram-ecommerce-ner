{
 "cells": [
  {
   "cell_type": "code",
   "execution_count": null,
   "id": "5e0c1faa",
   "metadata": {
    "vscode": {
     "languageId": "plaintext"
    }
   },
   "outputs": [],
   "source": [
    "# Install necessary packages\n",
    "!pip install transformers datasets seqeval mlflow --quiet\n",
    "\n",
    "# Mount Google Drive to access data and save models\n",
    "from google.colab import drive\n",
    "drive.mount('/content/drive')\n",
    "\n",
    "# Set paths - adjust to your paths in Google Drive or local\n",
    "MODEL_OUTPUT_DIR = \"/content/drive/MyDrive/ner_model_output\"\n",
    "TRAIN_FILE = \"/content/drive/MyDrive/dataset/train.conll.txt\"\n",
    "EVAL_FILE = \"/content/drive/MyDrive/dataset/eval.conll.txt\"\n",
    "\n",
    "import os\n",
    "os.makedirs(MODEL_OUTPUT_DIR, exist_ok=True)\n"
   ]
  },
  {
   "cell_type": "code",
   "execution_count": null,
   "id": "7e5c1fba",
   "metadata": {
    "vscode": {
     "languageId": "plaintext"
    }
   },
   "outputs": [],
   "source": [
    "# If you have your repo on GitHub:\n",
    "!git clone https://github.com/your-username/your-repo.git\n",
    "%cd your-repo\n",
    "\n",
    "# Or upload your src folder manually to Colab, then:\n",
    "import sys\n",
    "sys.path.append(\"/content/your-repo/src\")  # Adjust if needed\n"
   ]
  },
  {
   "cell_type": "code",
   "execution_count": null,
   "id": "5b5fcde2",
   "metadata": {
    "vscode": {
     "languageId": "plaintext"
    }
   },
   "outputs": [],
   "source": [
    "from train.trainer import NerTrainer\n",
    "from models.ner_model import load_model_and_tokenizer\n",
    "from datasets import load_dataset\n",
    "import pandas as pd\n",
    "\n",
    "# Load train and eval data using your CoNLL loader\n",
    "from data.conll_loader import load_conll_data\n",
    "\n",
    "train_df = load_conll_data(TRAIN_FILE)\n",
    "eval_df = load_conll_data(EVAL_FILE)\n",
    "\n",
    "# Define your label list\n",
    "LABEL_LIST = [\n",
    "    \"O\",\n",
    "    \"B-PRODUCT\", \"I-PRODUCT\",\n",
    "    \"B-PRICE\", \"I-PRICE\",\n",
    "    \"B-LOC\", \"I-LOC\",\n",
    "]\n",
    "\n",
    "label2id = {l: i for i, l in enumerate(LABEL_LIST)}\n",
    "\n",
    "# Tokenize and prepare datasets using your tokenizer and helper functions\n",
    "from train.trainer import tokenize_and_align_labels\n",
    "\n",
    "model_name = \"xlm-roberta-base\"\n",
    "model, tokenizer = load_model_and_tokenizer(model_name, num_labels=len(LABEL_LIST))\n",
    "\n",
    "train_dataset = tokenize_and_align_labels(train_df, tokenizer, label2id)\n",
    "eval_dataset = tokenize_and_align_labels(eval_df, tokenizer, label2id)\n",
    "\n",
    "# Create the trainer and train\n",
    "trainer = NerTrainer(\n",
    "    model=model,\n",
    "    tokenizer=tokenizer,\n",
    "    train_dataset=train_dataset,\n",
    "    eval_dataset=eval_dataset,\n",
    "    output_dir=MODEL_OUTPUT_DIR,\n",
    ")\n",
    "\n",
    "metrics = trainer.train()\n",
    "print(\"Training complete. Metrics:\", metrics)\n"
   ]
  },
  {
   "cell_type": "code",
   "execution_count": null,
   "id": "5e4a7693",
   "metadata": {
    "vscode": {
     "languageId": "plaintext"
    }
   },
   "outputs": [],
   "source": [
    "from eval.evaluate import evaluate\n",
    "\n",
    "evaluate(\n",
    "    model_path=MODEL_OUTPUT_DIR,\n",
    "    data_path=EVAL_FILE,\n",
    "    label_list=LABEL_LIST,\n",
    ")"
   ]
  },
  {
   "cell_type": "code",
   "execution_count": null,
   "id": "f6361831",
   "metadata": {
    "vscode": {
     "languageId": "plaintext"
    }
   },
   "outputs": [],
   "source": [
    "# List saved models\n",
    "!ls -lh $MODEL_OUTPUT_DIR"
   ]
  }
 ],
 "metadata": {
  "language_info": {
   "name": "python"
  }
 },
 "nbformat": 4,
 "nbformat_minor": 5
}
