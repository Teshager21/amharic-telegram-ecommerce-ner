{
 "cells": [
  {
   "cell_type": "code",
   "execution_count": null,
   "id": "0b25c1eb",
   "metadata": {},
   "outputs": [],
   "source": [
    "# 🧠 Evaluate NER Model\n",
    "from src.eval.evaluate import evaluate\n",
    "\n",
    "LABEL_LIST = [\n",
    "    \"O\",\n",
    "    \"B-PRODUCT\", \"I-PRODUCT\",\n",
    "    \"B-PRICE\", \"I-PRICE\",\n",
    "    \"B-LOC\", \"I-LOC\",\n",
    "]"
   ]
  },
  {
   "cell_type": "code",
   "execution_count": null,
   "id": "856cbdcb",
   "metadata": {},
   "outputs": [],
   "source": [
    "# Paths for model and test data\n",
    "MODEL_PATH = \"models/ner\"  # Path to your fine-tuned model directory\n",
    "TEST_DATA_PATH = \"data/labeled/eval_split.conll\"  # Path to your test dataset in CoNLL format"
   ]
  },
  {
   "cell_type": "code",
   "execution_count": null,
   "id": "e0edbc12",
   "metadata": {},
   "outputs": [],
   "source": [
    "# Run evaluation\n",
    "try:\n",
    "    evaluate(\n",
    "        model_path=MODEL_PATH,\n",
    "        data_path=TEST_DATA_PATH,\n",
    "        label_list=LABEL_LIST\n",
    "    )\n",
    "except Exception as e:\n",
    "    print(f\"Evaluation failed: {e}\")"
   ]
  }
 ],
 "metadata": {
  "kernelspec": {
   "display_name": "venv",
   "language": "python",
   "name": "python3"
  },
  "language_info": {
   "name": "python",
   "version": "3.10.12"
  }
 },
 "nbformat": 4,
 "nbformat_minor": 5
}
