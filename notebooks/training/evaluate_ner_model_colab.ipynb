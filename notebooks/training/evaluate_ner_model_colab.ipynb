{
 "cells": [
  {
   "cell_type": "code",
   "execution_count": null,
   "id": "f924d7b7",
   "metadata": {},
   "outputs": [],
   "source": [
    "# 📦 1. Install required dependencies\n",
    "!pip install -q \"dvc[gdrive]\" transformers==4.12.0 datasets mlflow seqeval\n",
    "!pip install -q git+https://github.com/huggingface/transformers.git\n",
    "!pip show transformers"
   ]
  },
  {
   "cell_type": "code",
   "execution_count": null,
   "id": "42ad1ee0",
   "metadata": {},
   "outputs": [],
   "source": [
    "# 🧠 2. Clone the repo from the correct branch\n",
    "# 🚫 Remove the nested repo folder if it exists\n",
    "!rm -rf amharic-telegram-ecommerce-ner\n",
    "\n",
    "# ✅ Then re-clone cleanly\n",
    "!git clone --branch task-3 https://github.com/Teshager21/amharic-telegram-ecommerce-ner.git\n",
    "\n",
    "# Move into the clean project directory\n",
    "%cd amharic-telegram-ecommerce-ner"
   ]
  },
  {
   "cell_type": "code",
   "execution_count": null,
   "id": "b45e2a4c",
   "metadata": {},
   "outputs": [],
   "source": [
    "# 🔐 3. Upload service account key and configure DVC remote\n",
    "from google.colab import files\n",
    "import shutil, os\n",
    "from pathlib import Path\n",
    "\n",
    "# Upload the file\n",
    "uploaded = files.upload()\n",
    "filename = next(iter(uploaded))  # get the uploaded filename\n",
    "\n",
    "# Move it to a safe path (avoid special characters)\n",
    "key_path = Path(\"/content/sa_key.json\")\n",
    "shutil.move(filename, key_path)\n",
    "\n",
    "# Configure DVC to use the uploaded key\n",
    "!dvc remote modify gdrive_remote gdrive_use_service_account true\n",
    "!dvc remote modify gdrive_remote gdrive_service_account_json_file_path {key_path}"
   ]
  },
  {
   "cell_type": "code",
   "execution_count": null,
   "id": "3efa7805",
   "metadata": {},
   "outputs": [],
   "source": [
    "# ✅ 4. Pull data using DVC (with service account)\n",
    "import subprocess\n",
    "\n",
    "def dvc_pull_with_feedback():\n",
    "    print(\"📥 Pulling DVC-tracked data from Google Drive remote...\")\n",
    "    result = subprocess.run([\"dvc\", \"pull\", \"-v\"], capture_output=True, text=True)\n",
    "    if result.returncode == 0:\n",
    "        print(\"✅ DVC pull successful.\")\n",
    "    else:\n",
    "        print(\"❌ DVC pull failed:\")\n",
    "        print(result.stderr)\n",
    "\n",
    "dvc_pull_with_feedback()\n"
   ]
  },
  {
   "cell_type": "code",
   "execution_count": null,
   "id": "ce360b6e",
   "metadata": {},
   "outputs": [
    {
     "name": "stdout",
     "output_type": "stream",
     "text": [
      "python: can't open file '/home/teshager/Documents/10Academy/repositories/projects/amharic-telegram-ecommerce-ner/notebooks/training/src/train/main.py': [Errno 2] No such file or directory\n"
     ]
    }
   ],
   "source": [
    "# ✅ Colab cell to run fine-tuning with updated Hydra config (no old keys)\n",
    "import os\n",
    "os.environ[\"WANDB_MODE\"] = \"offline\"\n",
    "!PYTHONPATH=src python src/train/main.py \\\n",
    "  model.name_or_path=xlm-roberta-base \\\n",
    "  training.epochs=3 \\\n",
    "  training.batch_size=16 \\\n",
    "  training.evaluation_strategy=epoch \\\n",
    "  data.train_file=data/labeled/train_split.conll \\\n",
    "  data.eval_file=data/labeled/eval_split.conll \\\n",
    "  output_dir=models/ner \\\n",
    "  logging.level=INFO"
   ]
  },
  {
   "cell_type": "code",
   "execution_count": null,
   "id": "3c7ad5ef",
   "metadata": {},
   "outputs": [],
   "source": [
    "# 🧠 Evaluate NER Model\n",
    "from src.eval.evaluate import evaluate\n",
    "\n",
    "LABEL_LIST = [\n",
    "    \"O\",\n",
    "    \"B-PRODUCT\", \"I-PRODUCT\",\n",
    "    \"B-PRICE\", \"I-PRICE\",\n",
    "    \"B-LOC\", \"I-LOC\",\n",
    "]"
   ]
  },
  {
   "cell_type": "code",
   "execution_count": null,
   "id": "720edc6e",
   "metadata": {},
   "outputs": [],
   "source": [
    "# Paths for model and test data\n",
    "MODEL_PATH = \"models/ner\"  # Path to your fine-tuned model directory\n",
    "TEST_DATA_PATH = \"data/processed/ner_test.conll\"  # Path to your test dataset in CoNLL format\n"
   ]
  },
  {
   "cell_type": "code",
   "execution_count": null,
   "id": "b8f75182",
   "metadata": {},
   "outputs": [],
   "source": [
    "# Run evaluation\n",
    "try:\n",
    "    evaluate(\n",
    "        model_path=MODEL_PATH,\n",
    "        data_path=TEST_DATA_PATH,\n",
    "        label_list=LABEL_LIST\n",
    "    )\n",
    "except Exception as e:\n",
    "    print(f\"Evaluation failed: {e}\")\n"
   ]
  },
  {
   "cell_type": "code",
   "execution_count": null,
   "id": "7d9d9a7f",
   "metadata": {},
   "outputs": [],
   "source": [
    "# Launch MLflow UI in Colab\n",
    "!mlflow ui --port 5000 &\n",
    "\n",
    "# To open the UI, click the link below after running this cell:\n",
    "print(\"MLflow UI should be running on port 5000\")\n"
   ]
  },
  {
   "cell_type": "code",
   "execution_count": null,
   "id": "78b42c79",
   "metadata": {},
   "outputs": [],
   "source": [
    "# 📊 View MLflow Run (Optional)\n",
    "!ls -lh mlruns/"
   ]
  }
 ],
 "metadata": {
  "kernelspec": {
   "display_name": "venv",
   "language": "python",
   "name": "python3"
  },
  "language_info": {
   "codemirror_mode": {
    "name": "ipython",
    "version": 3
   },
   "file_extension": ".py",
   "mimetype": "text/x-python",
   "name": "python",
   "nbconvert_exporter": "python",
   "pygments_lexer": "ipython3",
   "version": "3.10.12"
  }
 },
 "nbformat": 4,
 "nbformat_minor": 5
}
