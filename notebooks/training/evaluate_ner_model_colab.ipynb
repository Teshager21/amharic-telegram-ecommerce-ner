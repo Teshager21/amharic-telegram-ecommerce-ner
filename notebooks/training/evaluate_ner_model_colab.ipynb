{
  "cells": [
    {
      "cell_type": "code",
      "execution_count": 39,
      "id": "f924d7b7",
      "metadata": {
        "colab": {
          "base_uri": "https://localhost:8080/"
        },
        "id": "f924d7b7",
        "outputId": "788c1c9c-7f94-4316-c8ee-c8c07391479e"
      },
      "outputs": [
        {
          "name": "stdout",
          "output_type": "stream",
          "text": [
            "  Installing build dependencies ... \u001b[?25l\u001b[?25hdone\n",
            "  Getting requirements to build wheel ... \u001b[?25l\u001b[?25hdone\n",
            "  Preparing metadata (pyproject.toml) ... \u001b[?25l\u001b[?25hdone\n",
            "Name: transformers\n",
            "Version: 4.53.0.dev0\n",
            "Summary: State-of-the-art Machine Learning for JAX, PyTorch and TensorFlow\n",
            "Home-page: https://github.com/huggingface/transformers\n",
            "Author: The Hugging Face team (past and future) with the help of all our contributors (https://github.com/huggingface/transformers/graphs/contributors)\n",
            "Author-email: transformers@huggingface.co\n",
            "License: Apache 2.0 License\n",
            "Location: /usr/local/lib/python3.11/dist-packages\n",
            "Requires: filelock, huggingface-hub, numpy, packaging, pyyaml, regex, requests, safetensors, tokenizers, tqdm\n",
            "Required-by: peft, sentence-transformers\n"
          ]
        }
      ],
      "source": [
        "# 📦 1. Install required dependencies\n",
        "!pip install -q \"dvc[gdrive]\" transformers datasets mlflow seqeval\n",
        "!pip install -q git+https://github.com/huggingface/transformers.git\n",
        "!pip show transformers"
      ]
    },
    {
      "cell_type": "code",
      "execution_count": null,
      "id": "f74e2fb5",
      "metadata": {},
      "outputs": [],
      "source": [
        "import os\n",
        "\n",
        "# 1. Set API key and switch to online mode\n",
        "os.environ[\"WANDB_API_KEY\"] = \"a3e57f43963988bf3e9d50b1663ff787f79afb7d\"\n",
        "os.environ[\"WANDB_MODE\"] = \"online\""
      ]
    },
    {
      "cell_type": "code",
      "execution_count": 40,
      "id": "42ad1ee0",
      "metadata": {
        "colab": {
          "base_uri": "https://localhost:8080/"
        },
        "id": "42ad1ee0",
        "outputId": "8d1d4335-df08-4e47-99d5-0b84dcf0fb22"
      },
      "outputs": [
        {
          "name": "stdout",
          "output_type": "stream",
          "text": [
            "Cloning into 'amharic-telegram-ecommerce-ner'...\n",
            "remote: Enumerating objects: 234, done.\u001b[K\n",
            "remote: Counting objects: 100% (63/63), done.\u001b[K\n",
            "remote: Compressing objects: 100% (47/47), done.\u001b[K\n",
            "remote: Total 234 (delta 24), reused 42 (delta 16), pack-reused 171 (from 1)\u001b[K\n",
            "Receiving objects: 100% (234/234), 55.20 KiB | 1.00 MiB/s, done.\n",
            "Resolving deltas: 100% (88/88), done.\n",
            "/content/amharic-telegram-ecommerce-ner/amharic-telegram-ecommerce-ner/amharic-telegram-ecommerce-ner/amharic-telegram-ecommerce-ner/amharic-telegram-ecommerce-ner/amharic-telegram-ecommerce-ner/amharic-telegram-ecommerce-ner/amharic-telegram-ecommerce-ner\n"
          ]
        }
      ],
      "source": [
        "# 🧠 2. Clone the repo from the correct branch\n",
        "# 🚫 Remove the nested repo folder if it exists\n",
        "!rm -rf amharic-telegram-ecommerce-ner\n",
        "\n",
        "# ✅ Then re-clone cleanly\n",
        "!git clone --branch task-3 https://github.com/Teshager21/amharic-telegram-ecommerce-ner.git\n",
        "\n",
        "# Move into the clean project directory\n",
        "%cd amharic-telegram-ecommerce-ner"
      ]
    },
    {
      "cell_type": "code",
      "execution_count": 41,
      "id": "b45e2a4c",
      "metadata": {
        "colab": {
          "base_uri": "https://localhost:8080/",
          "height": 73
        },
        "id": "b45e2a4c",
        "outputId": "e6716356-285b-478c-b1cc-84cc034ea38a"
      },
      "outputs": [
        {
          "data": {
            "text/html": [
              "\n",
              "     <input type=\"file\" id=\"files-80c046ce-47c8-43a2-84bc-0877cef72ec7\" name=\"files[]\" multiple disabled\n",
              "        style=\"border:none\" />\n",
              "     <output id=\"result-80c046ce-47c8-43a2-84bc-0877cef72ec7\">\n",
              "      Upload widget is only available when the cell has been executed in the\n",
              "      current browser session. Please rerun this cell to enable.\n",
              "      </output>\n",
              "      <script>// Copyright 2017 Google LLC\n",
              "//\n",
              "// Licensed under the Apache License, Version 2.0 (the \"License\");\n",
              "// you may not use this file except in compliance with the License.\n",
              "// You may obtain a copy of the License at\n",
              "//\n",
              "//      http://www.apache.org/licenses/LICENSE-2.0\n",
              "//\n",
              "// Unless required by applicable law or agreed to in writing, software\n",
              "// distributed under the License is distributed on an \"AS IS\" BASIS,\n",
              "// WITHOUT WARRANTIES OR CONDITIONS OF ANY KIND, either express or implied.\n",
              "// See the License for the specific language governing permissions and\n",
              "// limitations under the License.\n",
              "\n",
              "/**\n",
              " * @fileoverview Helpers for google.colab Python module.\n",
              " */\n",
              "(function(scope) {\n",
              "function span(text, styleAttributes = {}) {\n",
              "  const element = document.createElement('span');\n",
              "  element.textContent = text;\n",
              "  for (const key of Object.keys(styleAttributes)) {\n",
              "    element.style[key] = styleAttributes[key];\n",
              "  }\n",
              "  return element;\n",
              "}\n",
              "\n",
              "// Max number of bytes which will be uploaded at a time.\n",
              "const MAX_PAYLOAD_SIZE = 100 * 1024;\n",
              "\n",
              "function _uploadFiles(inputId, outputId) {\n",
              "  const steps = uploadFilesStep(inputId, outputId);\n",
              "  const outputElement = document.getElementById(outputId);\n",
              "  // Cache steps on the outputElement to make it available for the next call\n",
              "  // to uploadFilesContinue from Python.\n",
              "  outputElement.steps = steps;\n",
              "\n",
              "  return _uploadFilesContinue(outputId);\n",
              "}\n",
              "\n",
              "// This is roughly an async generator (not supported in the browser yet),\n",
              "// where there are multiple asynchronous steps and the Python side is going\n",
              "// to poll for completion of each step.\n",
              "// This uses a Promise to block the python side on completion of each step,\n",
              "// then passes the result of the previous step as the input to the next step.\n",
              "function _uploadFilesContinue(outputId) {\n",
              "  const outputElement = document.getElementById(outputId);\n",
              "  const steps = outputElement.steps;\n",
              "\n",
              "  const next = steps.next(outputElement.lastPromiseValue);\n",
              "  return Promise.resolve(next.value.promise).then((value) => {\n",
              "    // Cache the last promise value to make it available to the next\n",
              "    // step of the generator.\n",
              "    outputElement.lastPromiseValue = value;\n",
              "    return next.value.response;\n",
              "  });\n",
              "}\n",
              "\n",
              "/**\n",
              " * Generator function which is called between each async step of the upload\n",
              " * process.\n",
              " * @param {string} inputId Element ID of the input file picker element.\n",
              " * @param {string} outputId Element ID of the output display.\n",
              " * @return {!Iterable<!Object>} Iterable of next steps.\n",
              " */\n",
              "function* uploadFilesStep(inputId, outputId) {\n",
              "  const inputElement = document.getElementById(inputId);\n",
              "  inputElement.disabled = false;\n",
              "\n",
              "  const outputElement = document.getElementById(outputId);\n",
              "  outputElement.innerHTML = '';\n",
              "\n",
              "  const pickedPromise = new Promise((resolve) => {\n",
              "    inputElement.addEventListener('change', (e) => {\n",
              "      resolve(e.target.files);\n",
              "    });\n",
              "  });\n",
              "\n",
              "  const cancel = document.createElement('button');\n",
              "  inputElement.parentElement.appendChild(cancel);\n",
              "  cancel.textContent = 'Cancel upload';\n",
              "  const cancelPromise = new Promise((resolve) => {\n",
              "    cancel.onclick = () => {\n",
              "      resolve(null);\n",
              "    };\n",
              "  });\n",
              "\n",
              "  // Wait for the user to pick the files.\n",
              "  const files = yield {\n",
              "    promise: Promise.race([pickedPromise, cancelPromise]),\n",
              "    response: {\n",
              "      action: 'starting',\n",
              "    }\n",
              "  };\n",
              "\n",
              "  cancel.remove();\n",
              "\n",
              "  // Disable the input element since further picks are not allowed.\n",
              "  inputElement.disabled = true;\n",
              "\n",
              "  if (!files) {\n",
              "    return {\n",
              "      response: {\n",
              "        action: 'complete',\n",
              "      }\n",
              "    };\n",
              "  }\n",
              "\n",
              "  for (const file of files) {\n",
              "    const li = document.createElement('li');\n",
              "    li.append(span(file.name, {fontWeight: 'bold'}));\n",
              "    li.append(span(\n",
              "        `(${file.type || 'n/a'}) - ${file.size} bytes, ` +\n",
              "        `last modified: ${\n",
              "            file.lastModifiedDate ? file.lastModifiedDate.toLocaleDateString() :\n",
              "                                    'n/a'} - `));\n",
              "    const percent = span('0% done');\n",
              "    li.appendChild(percent);\n",
              "\n",
              "    outputElement.appendChild(li);\n",
              "\n",
              "    const fileDataPromise = new Promise((resolve) => {\n",
              "      const reader = new FileReader();\n",
              "      reader.onload = (e) => {\n",
              "        resolve(e.target.result);\n",
              "      };\n",
              "      reader.readAsArrayBuffer(file);\n",
              "    });\n",
              "    // Wait for the data to be ready.\n",
              "    let fileData = yield {\n",
              "      promise: fileDataPromise,\n",
              "      response: {\n",
              "        action: 'continue',\n",
              "      }\n",
              "    };\n",
              "\n",
              "    // Use a chunked sending to avoid message size limits. See b/62115660.\n",
              "    let position = 0;\n",
              "    do {\n",
              "      const length = Math.min(fileData.byteLength - position, MAX_PAYLOAD_SIZE);\n",
              "      const chunk = new Uint8Array(fileData, position, length);\n",
              "      position += length;\n",
              "\n",
              "      const base64 = btoa(String.fromCharCode.apply(null, chunk));\n",
              "      yield {\n",
              "        response: {\n",
              "          action: 'append',\n",
              "          file: file.name,\n",
              "          data: base64,\n",
              "        },\n",
              "      };\n",
              "\n",
              "      let percentDone = fileData.byteLength === 0 ?\n",
              "          100 :\n",
              "          Math.round((position / fileData.byteLength) * 100);\n",
              "      percent.textContent = `${percentDone}% done`;\n",
              "\n",
              "    } while (position < fileData.byteLength);\n",
              "  }\n",
              "\n",
              "  // All done.\n",
              "  yield {\n",
              "    response: {\n",
              "      action: 'complete',\n",
              "    }\n",
              "  };\n",
              "}\n",
              "\n",
              "scope.google = scope.google || {};\n",
              "scope.google.colab = scope.google.colab || {};\n",
              "scope.google.colab._files = {\n",
              "  _uploadFiles,\n",
              "  _uploadFilesContinue,\n",
              "};\n",
              "})(self);\n",
              "</script> "
            ],
            "text/plain": [
              "<IPython.core.display.HTML object>"
            ]
          },
          "metadata": {},
          "output_type": "display_data"
        },
        {
          "name": "stdout",
          "output_type": "stream",
          "text": [
            "Saving dvc-drive-remote-8f00f1ce2758.json to dvc-drive-remote-8f00f1ce2758.json\n",
            "\u001b[0m\u001b[0m"
          ]
        }
      ],
      "source": [
        "# 🔐 3. Upload service account key and configure DVC remote\n",
        "from google.colab import files\n",
        "import shutil, os\n",
        "from pathlib import Path\n",
        "\n",
        "# Upload the file\n",
        "uploaded = files.upload()\n",
        "filename = next(iter(uploaded))  # get the uploaded filename\n",
        "\n",
        "# Move it to a safe path (avoid special characters)\n",
        "key_path = Path(\"/content/sa_key.json\")\n",
        "shutil.move(filename, key_path)\n",
        "\n",
        "# Configure DVC to use the uploaded key\n",
        "!dvc remote modify gdrive_remote gdrive_use_service_account true\n",
        "!dvc remote modify gdrive_remote gdrive_service_account_json_file_path {key_path}"
      ]
    },
    {
      "cell_type": "code",
      "execution_count": 42,
      "id": "3efa7805",
      "metadata": {
        "colab": {
          "base_uri": "https://localhost:8080/"
        },
        "id": "3efa7805",
        "outputId": "85738120-cc81-41c3-b085-38be2184c7ad"
      },
      "outputs": [
        {
          "name": "stdout",
          "output_type": "stream",
          "text": [
            "📥 Pulling DVC-tracked data from Google Drive remote...\n",
            "✅ DVC pull successful.\n"
          ]
        }
      ],
      "source": [
        "# ✅ 4. Pull data using DVC (with service account)\n",
        "import subprocess\n",
        "\n",
        "def dvc_pull_with_feedback():\n",
        "    print(\"📥 Pulling DVC-tracked data from Google Drive remote...\")\n",
        "    result = subprocess.run([\"dvc\", \"pull\", \"-v\"], capture_output=True, text=True)\n",
        "    if result.returncode == 0:\n",
        "        print(\"✅ DVC pull successful.\")\n",
        "    else:\n",
        "        print(\"❌ DVC pull failed:\")\n",
        "        print(result.stderr)\n",
        "\n",
        "dvc_pull_with_feedback()\n"
      ]
    },
    {
      "cell_type": "code",
      "execution_count": null,
      "id": "ce360b6e",
      "metadata": {
        "colab": {
          "base_uri": "https://localhost:8080/"
        },
        "id": "ce360b6e",
        "outputId": "9de36b6e-e256-4075-d9e8-04e71f2e57c3"
      },
      "outputs": [],
      "source": [
        "# ✅ Colab cell to run fine-tuning with updated Hydra config (no old keys)\n",
        "!PYTHONPATH=src python src/train/main.py \\\n",
        "  model.name_or_path=xlm-roberta-base \\\n",
        "  training.epochs=3 \\\n",
        "  training.batch_size=16 \\\n",
        "  training.eval_strategy=epoch \\\n",
        "  data.train_file=data/labeled/train_split.conll \\\n",
        "  data.eval_file=data/labeled/eval_split.conll \\\n",
        "  output_dir=models/ner \\\n",
        "  logging.level=INFO"
      ]
    },
    {
      "cell_type": "code",
      "execution_count": null,
      "id": "3c7ad5ef",
      "metadata": {
        "id": "3c7ad5ef"
      },
      "outputs": [],
      "source": [
        "# 🧠 Evaluate NER Model\n",
        "from src.eval.evaluate import evaluate\n",
        "\n",
        "LABEL_LIST = [\n",
        "    \"O\",\n",
        "    \"B-PRODUCT\", \"I-PRODUCT\",\n",
        "    \"B-PRICE\", \"I-PRICE\",\n",
        "    \"B-LOC\", \"I-LOC\",\n",
        "]"
      ]
    },
    {
      "cell_type": "code",
      "execution_count": null,
      "id": "720edc6e",
      "metadata": {
        "id": "720edc6e"
      },
      "outputs": [],
      "source": [
        "# Paths for model and test data\n",
        "MODEL_PATH = \"models/ner\"  # Path to your fine-tuned model directory\n",
        "TEST_DATA_PATH = \"data/processed/ner_test.conll\"  # Path to your test dataset in CoNLL format\n"
      ]
    },
    {
      "cell_type": "code",
      "execution_count": null,
      "id": "b8f75182",
      "metadata": {
        "id": "b8f75182"
      },
      "outputs": [],
      "source": [
        "# Run evaluation\n",
        "try:\n",
        "    evaluate(\n",
        "        model_path=MODEL_PATH,\n",
        "        data_path=TEST_DATA_PATH,\n",
        "        label_list=LABEL_LIST\n",
        "    )\n",
        "except Exception as e:\n",
        "    print(f\"Evaluation failed: {e}\")\n"
      ]
    },
    {
      "cell_type": "code",
      "execution_count": null,
      "id": "7d9d9a7f",
      "metadata": {
        "id": "7d9d9a7f"
      },
      "outputs": [],
      "source": [
        "# Launch MLflow UI in Colab\n",
        "!mlflow ui --port 5000 &\n",
        "\n",
        "# To open the UI, click the link below after running this cell:\n",
        "print(\"MLflow UI should be running on port 5000\")\n"
      ]
    },
    {
      "cell_type": "code",
      "execution_count": null,
      "id": "78b42c79",
      "metadata": {
        "id": "78b42c79"
      },
      "outputs": [],
      "source": [
        "# 📊 View MLflow Run (Optional)\n",
        "!ls -lh mlruns/"
      ]
    },
    {
      "cell_type": "code",
      "execution_count": null,
      "id": "4c18fc9c",
      "metadata": {},
      "outputs": [],
      "source": [
        "!dvc add mlruns\n",
        "!dvc push\n",
        "!git add mlruns.dvc .gitignore\n",
        "!git commit -m \"feat:track MLflow experiment logs\"\n",
        "!git push"
      ]
    }
  ],
  "metadata": {
    "colab": {
      "provenance": []
    },
    "kernelspec": {
      "display_name": "venv",
      "language": "python",
      "name": "python3"
    },
    "language_info": {
      "codemirror_mode": {
        "name": "ipython",
        "version": 3
      },
      "file_extension": ".py",
      "mimetype": "text/x-python",
      "name": "python",
      "nbconvert_exporter": "python",
      "pygments_lexer": "ipython3",
      "version": "3.10.12"
    }
  },
  "nbformat": 4,
  "nbformat_minor": 5
}
