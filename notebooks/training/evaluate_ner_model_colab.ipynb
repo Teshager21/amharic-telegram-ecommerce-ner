{
 "cells": [
  {
   "cell_type": "code",
   "execution_count": null,
   "id": "f924d7b7",
   "metadata": {
    "vscode": {
     "languageId": "plaintext"
    }
   },
   "outputs": [],
   "source": [
    "# 📦 Environment Setup\n",
    "!pip install -q transformers datasets mlflow seqeval\n",
    "!pip install -q git+https://github.com/huggingface/transformers.git  # Optional: latest\n",
    "!pip install -q dvc[gdrive]\n",
    "!git clone https://github.com/Teshager21/amharic-telegram-ecommerce-ner.git\n",
    "%cd amharic-telegram-ecommerce-ner\n",
    "\n",
    "# 📁 Mount Google Drive (Optional)\n",
    "from google.colab import drive\n",
    "drive.mount('/content/drive')"
   ]
  },
  {
   "cell_type": "code",
   "execution_count": null,
   "id": "42ad1ee0",
   "metadata": {
    "vscode": {
     "languageId": "plaintext"
    }
   },
   "outputs": [],
   "source": [
    "# ⚙️ DVC Setup (if needed to pull model/data from Google Drive)\n",
    "!pip install -q dvc[gdrive]"
   ]
  },
  {
   "cell_type": "code",
   "execution_count": null,
   "id": "3efa7805",
   "metadata": {
    "vscode": {
     "languageId": "plaintext"
    }
   },
   "outputs": [],
   "source": [
    "# 📎 Upload your service account JSON\n",
    "from google.colab import files\n",
    "\n",
    "uploaded = files.upload()  # Select your `dvc-drive-remote-XXXX.json`"
   ]
  },
  {
   "cell_type": "code",
   "execution_count": null,
   "id": "22d1c35b",
   "metadata": {
    "vscode": {
     "languageId": "plaintext"
    }
   },
   "outputs": [],
   "source": [
    "!dvc remote add -d gdrive_remote gdrive://1UveBgDaVcNQi1T-fLA-Kz03hPRqJ_ayk"
   ]
  },
  {
   "cell_type": "code",
   "execution_count": null,
   "id": "c30da414",
   "metadata": {
    "vscode": {
     "languageId": "plaintext"
    }
   },
   "outputs": [],
   "source": [
    "# 💾 Upload service account key and point DVC to it\n",
    "\n",
    "from google.colab import files\n",
    "\n",
    "# Upload your service account JSON key file from local machine\n",
    "uploaded = files.upload()\n",
    "\n",
    "# Get the filename of the uploaded file (assumes single file upload)\n",
    "filename = next(iter(uploaded))\n",
    "key_path = f\"/content/{filename}\"\n",
    "\n",
    "# Check that the DVC remote exists before modifying\n",
    "!dvc remote list\n",
    "\n",
    "# Modify the DVC remote config to use the uploaded service account key\n",
    "!dvc remote modify gdrive_remote gdrive_service_account_json_file_path {key_path}\n",
    "\n",
    "print(f\"✅ DVC remote 'gdrive_remote' now uses service account JSON at: {key_path}\")\n"
   ]
  },
  {
   "cell_type": "code",
   "execution_count": null,
   "id": "5888db51",
   "metadata": {
    "vscode": {
     "languageId": "plaintext"
    }
   },
   "outputs": [],
   "source": [
    "# 🔍 Check DVC remote config before pulling data\n",
    "!dvc remote list\n",
    "\n",
    "# Optionally, check detailed config\n",
    "!cat .dvc/config\n",
    "\n",
    "# Pull data and model if remote exists\n",
    "import subprocess\n",
    "\n",
    "def dvc_pull_if_remote_exists(remote_name=\"gdrive_remote\"):\n",
    "    remotes = subprocess.getoutput(\"dvc remote list\").splitlines()\n",
    "    remote_names = [line.split()[0] for line in remotes]\n",
    "    if remote_name in remote_names:\n",
    "        print(f\"✅ Found remote '{remote_name}'. Pulling data...\")\n",
    "        # Use subprocess.run to set environment var and run dvc pull properly\n",
    "        result = subprocess.run(\n",
    "            [\"dvc\", \"pull\"],\n",
    "            env={**os.environ, \"DVC_GDRIVE_USE_SERVICE_ACCOUNT\": \"true\"},\n",
    "            capture_output=True,\n",
    "            text=True,\n",
    "        )\n",
    "        print(result.stdout)\n",
    "        if result.returncode != 0:\n",
    "            print(\"❌ Error during dvc pull:\")\n",
    "            print(result.stderr)\n",
    "    else:\n",
    "        print(f\"❌ Remote '{remote_name}' not found. Please configure your DVC remote first.\")\n",
    "\n",
    "import os\n",
    "dvc_pull_if_remote_exists()"
   ]
  },
  {
   "cell_type": "code",
   "execution_count": null,
   "id": "ce360b6e",
   "metadata": {
    "vscode": {
     "languageId": "plaintext"
    }
   },
   "outputs": [],
   "source": [
    "# Colab cell to run your fine-tuning main.py with Hydra config overrides\n",
    "\n",
    "!python src/train/main.py \\\n",
    "  model.name_or_path=xlm-roberta-base \\\n",
    "  training.epochs=3 \\\n",
    "  training.batch_size=16 \\\n",
    "  data.conll_file=data/labeled/train.conll \\\n",
    "  output_dir=models/ner \\\n",
    "  logging.level=INFO\n"
   ]
  },
  {
   "cell_type": "code",
   "execution_count": null,
   "id": "3c7ad5ef",
   "metadata": {
    "vscode": {
     "languageId": "plaintext"
    }
   },
   "outputs": [],
   "source": [
    "# 🧠 Evaluate NER Model\n",
    "from src.eval.evaluate import evaluate\n",
    "\n",
    "LABEL_LIST = [\n",
    "    \"O\",\n",
    "    \"B-PRODUCT\", \"I-PRODUCT\",\n",
    "    \"B-PRICE\", \"I-PRICE\",\n",
    "    \"B-LOC\", \"I-LOC\",\n",
    "]"
   ]
  },
  {
   "cell_type": "code",
   "execution_count": null,
   "id": "720edc6e",
   "metadata": {
    "vscode": {
     "languageId": "plaintext"
    }
   },
   "outputs": [],
   "source": [
    "# Paths for model and test data\n",
    "MODEL_PATH = \"models/ner\"  # Path to your fine-tuned model directory\n",
    "TEST_DATA_PATH = \"data/processed/ner_test.conll\"  # Path to your test dataset in CoNLL format\n"
   ]
  },
  {
   "cell_type": "code",
   "execution_count": null,
   "id": "b8f75182",
   "metadata": {
    "vscode": {
     "languageId": "plaintext"
    }
   },
   "outputs": [],
   "source": [
    "# Run evaluation\n",
    "try:\n",
    "    evaluate(\n",
    "        model_path=MODEL_PATH,\n",
    "        data_path=TEST_DATA_PATH,\n",
    "        label_list=LABEL_LIST\n",
    "    )\n",
    "except Exception as e:\n",
    "    print(f\"Evaluation failed: {e}\")\n"
   ]
  },
  {
   "cell_type": "code",
   "execution_count": null,
   "id": "7d9d9a7f",
   "metadata": {
    "vscode": {
     "languageId": "plaintext"
    }
   },
   "outputs": [],
   "source": [
    "# Launch MLflow UI in Colab\n",
    "!mlflow ui --port 5000 &\n",
    "\n",
    "# To open the UI, click the link below after running this cell:\n",
    "print(\"MLflow UI should be running on port 5000\")\n"
   ]
  },
  {
   "cell_type": "code",
   "execution_count": null,
   "id": "78b42c79",
   "metadata": {
    "vscode": {
     "languageId": "plaintext"
    }
   },
   "outputs": [],
   "source": [
    "# 📊 View MLflow Run (Optional)\n",
    "!ls -lh mlruns/"
   ]
  }
 ],
 "metadata": {
  "language_info": {
   "name": "python"
  }
 },
 "nbformat": 4,
 "nbformat_minor": 5
}
